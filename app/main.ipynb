{
 "cells": [
  {
   "cell_type": "code",
   "execution_count": 25,
   "metadata": {},
   "outputs": [],
   "source": [
    "#容器持久化python lib地址，因为使用的镜像是conda管理环境，目前没找到方法添加第三方lib路径到conda环境中\n",
    "#安装命令\n",
    "#pip install --install-option=\"--prefix=/jupyter-datascience-notebook/packages\" --ignore-installed <your-package>\n",
    "import sys\n",
    "sys.path.append('/jupyter-datascience-notebook/packages/lib/python3.6/site-packages')"
   ]
  },
  {
   "cell_type": "code",
   "execution_count": 26,
   "metadata": {},
   "outputs": [],
   "source": [
    "import numpy\n",
    "import scipy\n",
    "import matplotlib\n",
    "import PIL\n",
    "#import pygame\n",
    "import OpenGL\n",
    "import pydot\n",
    "import simplejson\n",
    "import sqlite3\n",
    "import cherrypy"
   ]
  },
  {
   "cell_type": "code",
   "execution_count": null,
   "metadata": {},
   "outputs": [],
   "source": []
  }
 ],
 "metadata": {
  "kernelspec": {
   "display_name": "Python 3",
   "language": "python",
   "name": "python3"
  },
  "language_info": {
   "codemirror_mode": {
    "name": "ipython",
    "version": 3
   },
   "file_extension": ".py",
   "mimetype": "text/x-python",
   "name": "python",
   "nbconvert_exporter": "python",
   "pygments_lexer": "ipython3",
   "version": "3.6.3"
  }
 },
 "nbformat": 4,
 "nbformat_minor": 2
}
