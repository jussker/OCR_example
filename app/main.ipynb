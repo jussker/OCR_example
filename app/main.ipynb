{
 "cells": [
  {
   "cell_type": "code",
   "execution_count": 1,
   "metadata": {},
   "outputs": [],
   "source": [
    "#容器持久化python lib地址，因为使用的镜像是conda管理环境，目前没找到方法添加第三方lib路径到conda环境中\n",
    "#安装命令\n",
    "#pip install --install-option=\"--prefix=/jupyter-datascience-notebook/packages\" --ignore-installed <your-package>\n",
    "import sys\n",
    "sys.path.append('/jupyter-datascience-notebook/packages/lib/python3.6/site-packages')"
   ]
  },
  {
   "cell_type": "markdown",
   "metadata": {},
   "source": [
    "# GIT地址  https://github.com/jussker/OCR_example"
   ]
  },
  {
   "cell_type": "code",
   "execution_count": 2,
   "metadata": {},
   "outputs": [],
   "source": [
    "# import numpy\n",
    "# import scipy\n",
    "# import matplotlib\n",
    "# import PIL\n",
    "# import OpenGL\n",
    "# import pydot\n",
    "# import simplejson\n",
    "# import sqlite3\n",
    "# import cherrypy"
   ]
  },
  {
   "cell_type": "code",
   "execution_count": 3,
   "metadata": {},
   "outputs": [],
   "source": [
    "from PIL import Image"
   ]
  },
  {
   "cell_type": "code",
   "execution_count": 28,
   "metadata": {},
   "outputs": [],
   "source": [
    "img = Image.open('./../resources/2018-03-06/1.jpg')\n",
    "# 转为灰度图像，为原图像的拷贝\n",
    "cvt_img = img.convert('L')\n",
    "# 缩略图\n",
    "cvt_img\n",
    "# 保存灰度图像\n",
    "cvt_img.save('./../target/convert/1.jpg')"
   ]
  },
  {
   "cell_type": "code",
   "execution_count": null,
   "metadata": {},
   "outputs": [],
   "source": []
  }
 ],
 "metadata": {
  "kernelspec": {
   "display_name": "Python 3",
   "language": "python",
   "name": "python3"
  },
  "language_info": {
   "codemirror_mode": {
    "name": "ipython",
    "version": 3
   },
   "file_extension": ".py",
   "mimetype": "text/x-python",
   "name": "python",
   "nbconvert_exporter": "python",
   "pygments_lexer": "ipython3",
   "version": "3.6.3"
  }
 },
 "nbformat": 4,
 "nbformat_minor": 2
}
