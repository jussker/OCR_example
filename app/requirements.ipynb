{
 "cells": [
  {
   "cell_type": "markdown",
   "metadata": {},
   "source": [
    "## 包依赖\n",
    "- [x] NumPy\n",
    "- [x] SciPy\n",
    "- [x] Matplotlib\n",
    "- [x] PIL\n",
    "- [ ] LibSVM\n",
    "- [ ] VLFeat\n",
    "- [ ] PyGame sudo apt install libsdl2-dev\n",
    "- [x] PyOpenGL\n",
    "- [x] Pydot\n",
    "- [ ] Python-graph\n",
    "- [x] Simplejson\n",
    "- [x] PySQLite\n",
    "- [x] CherryPy\n",
    "\n",
    "# 资源\n",
    "Flickr（ http:// flickr. com/） 是 计算机 视觉 研究者 和 爱好者 的 金矿。 "
   ]
  },
  {
   "cell_type": "code",
   "execution_count": null,
   "metadata": {},
   "outputs": [],
   "source": []
  }
 ],
 "metadata": {
  "kernelspec": {
   "display_name": "Python 3",
   "language": "python",
   "name": "python3"
  },
  "language_info": {
   "codemirror_mode": {
    "name": "ipython",
    "version": 3
   },
   "file_extension": ".py",
   "mimetype": "text/x-python",
   "name": "python",
   "nbconvert_exporter": "python",
   "pygments_lexer": "ipython3",
   "version": "3.6.3"
  }
 },
 "nbformat": 4,
 "nbformat_minor": 2
}
